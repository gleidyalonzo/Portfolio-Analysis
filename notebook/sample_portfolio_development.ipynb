{
 "cells": [
  {
   "cell_type": "code",
   "execution_count": 44,
   "id": "9fb5cc43",
   "metadata": {},
   "outputs": [
    {
     "data": {
      "text/html": [
       "<div>\n",
       "<style scoped>\n",
       "    .dataframe tbody tr th:only-of-type {\n",
       "        vertical-align: middle;\n",
       "    }\n",
       "\n",
       "    .dataframe tbody tr th {\n",
       "        vertical-align: top;\n",
       "    }\n",
       "\n",
       "    .dataframe thead th {\n",
       "        text-align: right;\n",
       "    }\n",
       "</style>\n",
       "<table border=\"1\" class=\"dataframe\">\n",
       "  <thead>\n",
       "    <tr style=\"text-align: right;\">\n",
       "      <th></th>\n",
       "      <th>date</th>\n",
       "      <th>open</th>\n",
       "      <th>high</th>\n",
       "      <th>low</th>\n",
       "      <th>close</th>\n",
       "      <th>volume</th>\n",
       "      <th>Name</th>\n",
       "    </tr>\n",
       "  </thead>\n",
       "  <tbody>\n",
       "    <tr>\n",
       "      <th>0</th>\n",
       "      <td>2013-02-08</td>\n",
       "      <td>15.07</td>\n",
       "      <td>15.12</td>\n",
       "      <td>14.63</td>\n",
       "      <td>14.75</td>\n",
       "      <td>8407500</td>\n",
       "      <td>AAL</td>\n",
       "    </tr>\n",
       "    <tr>\n",
       "      <th>1</th>\n",
       "      <td>2013-02-11</td>\n",
       "      <td>14.89</td>\n",
       "      <td>15.01</td>\n",
       "      <td>14.26</td>\n",
       "      <td>14.46</td>\n",
       "      <td>8882000</td>\n",
       "      <td>AAL</td>\n",
       "    </tr>\n",
       "    <tr>\n",
       "      <th>2</th>\n",
       "      <td>2013-02-12</td>\n",
       "      <td>14.45</td>\n",
       "      <td>14.51</td>\n",
       "      <td>14.10</td>\n",
       "      <td>14.27</td>\n",
       "      <td>8126000</td>\n",
       "      <td>AAL</td>\n",
       "    </tr>\n",
       "    <tr>\n",
       "      <th>3</th>\n",
       "      <td>2013-02-13</td>\n",
       "      <td>14.30</td>\n",
       "      <td>14.94</td>\n",
       "      <td>14.25</td>\n",
       "      <td>14.66</td>\n",
       "      <td>10259500</td>\n",
       "      <td>AAL</td>\n",
       "    </tr>\n",
       "    <tr>\n",
       "      <th>4</th>\n",
       "      <td>2013-02-14</td>\n",
       "      <td>14.94</td>\n",
       "      <td>14.96</td>\n",
       "      <td>13.16</td>\n",
       "      <td>13.99</td>\n",
       "      <td>31879900</td>\n",
       "      <td>AAL</td>\n",
       "    </tr>\n",
       "  </tbody>\n",
       "</table>\n",
       "</div>"
      ],
      "text/plain": [
       "         date   open   high    low  close    volume Name\n",
       "0  2013-02-08  15.07  15.12  14.63  14.75   8407500  AAL\n",
       "1  2013-02-11  14.89  15.01  14.26  14.46   8882000  AAL\n",
       "2  2013-02-12  14.45  14.51  14.10  14.27   8126000  AAL\n",
       "3  2013-02-13  14.30  14.94  14.25  14.66  10259500  AAL\n",
       "4  2013-02-14  14.94  14.96  13.16  13.99  31879900  AAL"
      ]
     },
     "execution_count": 44,
     "metadata": {},
     "output_type": "execute_result"
    }
   ],
   "source": [
    "import pandas as pd\n",
    "\n",
    "#import data\n",
    "data = pd.read_csv('../data/all_stocks_5yr.csv')\n",
    "\n",
    "#View\n",
    "data.head()\n"
   ]
  },
  {
   "cell_type": "markdown",
   "id": "104382dc",
   "metadata": {},
   "source": [
    "## Data Preprocessing"
   ]
  },
  {
   "cell_type": "code",
   "execution_count": 45,
   "id": "06a9364b",
   "metadata": {},
   "outputs": [
    {
     "name": "stdout",
     "output_type": "stream",
     "text": [
      "<class 'pandas.core.frame.DataFrame'>\n",
      "RangeIndex: 619040 entries, 0 to 619039\n",
      "Data columns (total 7 columns):\n",
      " #   Column  Non-Null Count   Dtype  \n",
      "---  ------  --------------   -----  \n",
      " 0   date    619040 non-null  object \n",
      " 1   open    619029 non-null  float64\n",
      " 2   high    619032 non-null  float64\n",
      " 3   low     619032 non-null  float64\n",
      " 4   close   619040 non-null  float64\n",
      " 5   volume  619040 non-null  int64  \n",
      " 6   Name    619040 non-null  object \n",
      "dtypes: float64(4), int64(1), object(2)\n",
      "memory usage: 33.1+ MB\n"
     ]
    }
   ],
   "source": [
    "data.info()"
   ]
  },
  {
   "cell_type": "code",
   "execution_count": 46,
   "id": "2ac5de55",
   "metadata": {},
   "outputs": [],
   "source": [
    "data.columns = data.columns.str.lower()"
   ]
  },
  {
   "cell_type": "code",
   "execution_count": 47,
   "id": "17fcf5b7",
   "metadata": {},
   "outputs": [],
   "source": [
    "data['date'] = pd.to_datetime(data['date'])"
   ]
  },
  {
   "cell_type": "markdown",
   "id": "8e996358",
   "metadata": {},
   "source": [
    "###### Investment Portfolios"
   ]
  },
  {
   "cell_type": "code",
   "execution_count": 48,
   "id": "32f166df",
   "metadata": {},
   "outputs": [
    {
     "data": {
      "text/html": [
       "<div>\n",
       "<style scoped>\n",
       "    .dataframe tbody tr th:only-of-type {\n",
       "        vertical-align: middle;\n",
       "    }\n",
       "\n",
       "    .dataframe tbody tr th {\n",
       "        vertical-align: top;\n",
       "    }\n",
       "\n",
       "    .dataframe thead th {\n",
       "        text-align: right;\n",
       "    }\n",
       "</style>\n",
       "<table border=\"1\" class=\"dataframe\">\n",
       "  <thead>\n",
       "    <tr style=\"text-align: right;\">\n",
       "      <th></th>\n",
       "      <th>date</th>\n",
       "      <th>open</th>\n",
       "      <th>high</th>\n",
       "      <th>low</th>\n",
       "      <th>close</th>\n",
       "      <th>volume</th>\n",
       "      <th>name</th>\n",
       "    </tr>\n",
       "  </thead>\n",
       "  <tbody>\n",
       "    <tr>\n",
       "      <th>139481</th>\n",
       "      <td>2013-02-08</td>\n",
       "      <td>102.38</td>\n",
       "      <td>102.96</td>\n",
       "      <td>101.810</td>\n",
       "      <td>102.79</td>\n",
       "      <td>1726289</td>\n",
       "      <td>COST</td>\n",
       "    </tr>\n",
       "    <tr>\n",
       "      <th>139482</th>\n",
       "      <td>2013-02-11</td>\n",
       "      <td>102.87</td>\n",
       "      <td>102.94</td>\n",
       "      <td>101.760</td>\n",
       "      <td>101.99</td>\n",
       "      <td>1457384</td>\n",
       "      <td>COST</td>\n",
       "    </tr>\n",
       "    <tr>\n",
       "      <th>139483</th>\n",
       "      <td>2013-02-12</td>\n",
       "      <td>102.21</td>\n",
       "      <td>102.23</td>\n",
       "      <td>101.530</td>\n",
       "      <td>101.76</td>\n",
       "      <td>1203174</td>\n",
       "      <td>COST</td>\n",
       "    </tr>\n",
       "    <tr>\n",
       "      <th>139484</th>\n",
       "      <td>2013-02-13</td>\n",
       "      <td>101.98</td>\n",
       "      <td>102.37</td>\n",
       "      <td>100.950</td>\n",
       "      <td>101.63</td>\n",
       "      <td>1224373</td>\n",
       "      <td>COST</td>\n",
       "    </tr>\n",
       "    <tr>\n",
       "      <th>139485</th>\n",
       "      <td>2013-02-14</td>\n",
       "      <td>101.04</td>\n",
       "      <td>102.06</td>\n",
       "      <td>101.012</td>\n",
       "      <td>102.02</td>\n",
       "      <td>2211142</td>\n",
       "      <td>COST</td>\n",
       "    </tr>\n",
       "  </tbody>\n",
       "</table>\n",
       "</div>"
      ],
      "text/plain": [
       "             date    open    high      low   close   volume  name\n",
       "139481 2013-02-08  102.38  102.96  101.810  102.79  1726289  COST\n",
       "139482 2013-02-11  102.87  102.94  101.760  101.99  1457384  COST\n",
       "139483 2013-02-12  102.21  102.23  101.530  101.76  1203174  COST\n",
       "139484 2013-02-13  101.98  102.37  100.950  101.63  1224373  COST\n",
       "139485 2013-02-14  101.04  102.06  101.012  102.02  2211142  COST"
      ]
     },
     "execution_count": 48,
     "metadata": {},
     "output_type": "execute_result"
    }
   ],
   "source": [
    "# Creating investment portfolios\n",
    "\n",
    "# List of low risk portfolio comprising stable, dividend-paying companies with consistent performance.\n",
    "low_risk_stocks = [\n",
    "    \"PG\",\n",
    "    \"JNJ\",\n",
    "    \"PEP\",\n",
    "    \"WMT\",\n",
    "    \"V\",\n",
    "    \"MCD\",\n",
    "    \"KO\",\n",
    "    \"MMM\",\n",
    "    \"MSFT\",\n",
    "    \"COST\"\n",
    "]\n",
    "\n",
    "# Filtering data for rows corresponding to low risk stocks\n",
    "low_risk_port = data[data['name'].isin(low_risk_stocks)]\n",
    "\n",
    "# Viewing the low risk portfolio\n",
    "low_risk_port.head()\n"
   ]
  },
  {
   "cell_type": "code",
   "execution_count": 49,
   "id": "0a915bb3",
   "metadata": {},
   "outputs": [
    {
     "data": {
      "text/plain": [
       "name\n",
       "COST    1259\n",
       "JNJ     1259\n",
       "KO      1259\n",
       "MCD     1259\n",
       "MMM     1259\n",
       "MSFT    1259\n",
       "PEP     1259\n",
       "PG      1259\n",
       "V       1259\n",
       "WMT     1259\n",
       "Name: count, dtype: int64"
      ]
     },
     "execution_count": 49,
     "metadata": {},
     "output_type": "execute_result"
    }
   ],
   "source": [
    "#Checking the name colum\n",
    "low_risk_port.value_counts('name')"
   ]
  },
  {
   "cell_type": "code",
   "execution_count": 50,
   "id": "ec712c76",
   "metadata": {},
   "outputs": [
    {
     "data": {
      "text/plain": [
       "date      False\n",
       "open      False\n",
       "high      False\n",
       "low       False\n",
       "close     False\n",
       "volume    False\n",
       "name      False\n",
       "dtype: bool"
      ]
     },
     "execution_count": 50,
     "metadata": {},
     "output_type": "execute_result"
    }
   ],
   "source": [
    "#Checking for Null values\n",
    "low_risk_port.isnull().any()"
   ]
  },
  {
   "cell_type": "code",
   "execution_count": 51,
   "id": "bc3321aa",
   "metadata": {},
   "outputs": [
    {
     "data": {
      "text/html": [
       "<div>\n",
       "<style scoped>\n",
       "    .dataframe tbody tr th:only-of-type {\n",
       "        vertical-align: middle;\n",
       "    }\n",
       "\n",
       "    .dataframe tbody tr th {\n",
       "        vertical-align: top;\n",
       "    }\n",
       "\n",
       "    .dataframe thead th {\n",
       "        text-align: right;\n",
       "    }\n",
       "</style>\n",
       "<table border=\"1\" class=\"dataframe\">\n",
       "  <thead>\n",
       "    <tr style=\"text-align: right;\">\n",
       "      <th></th>\n",
       "      <th>date</th>\n",
       "      <th>open</th>\n",
       "      <th>high</th>\n",
       "      <th>low</th>\n",
       "      <th>close</th>\n",
       "      <th>volume</th>\n",
       "      <th>name</th>\n",
       "    </tr>\n",
       "  </thead>\n",
       "  <tbody>\n",
       "    <tr>\n",
       "      <th>1259</th>\n",
       "      <td>2013-02-08</td>\n",
       "      <td>67.7142</td>\n",
       "      <td>68.4014</td>\n",
       "      <td>66.8928</td>\n",
       "      <td>67.8542</td>\n",
       "      <td>158168416</td>\n",
       "      <td>AAPL</td>\n",
       "    </tr>\n",
       "    <tr>\n",
       "      <th>1260</th>\n",
       "      <td>2013-02-11</td>\n",
       "      <td>68.0714</td>\n",
       "      <td>69.2771</td>\n",
       "      <td>67.6071</td>\n",
       "      <td>68.5614</td>\n",
       "      <td>129029425</td>\n",
       "      <td>AAPL</td>\n",
       "    </tr>\n",
       "    <tr>\n",
       "      <th>1261</th>\n",
       "      <td>2013-02-12</td>\n",
       "      <td>68.5014</td>\n",
       "      <td>68.9114</td>\n",
       "      <td>66.8205</td>\n",
       "      <td>66.8428</td>\n",
       "      <td>151829363</td>\n",
       "      <td>AAPL</td>\n",
       "    </tr>\n",
       "    <tr>\n",
       "      <th>1262</th>\n",
       "      <td>2013-02-13</td>\n",
       "      <td>66.7442</td>\n",
       "      <td>67.6628</td>\n",
       "      <td>66.1742</td>\n",
       "      <td>66.7156</td>\n",
       "      <td>118721995</td>\n",
       "      <td>AAPL</td>\n",
       "    </tr>\n",
       "    <tr>\n",
       "      <th>1263</th>\n",
       "      <td>2013-02-14</td>\n",
       "      <td>66.3599</td>\n",
       "      <td>67.3771</td>\n",
       "      <td>66.2885</td>\n",
       "      <td>66.6556</td>\n",
       "      <td>88809154</td>\n",
       "      <td>AAPL</td>\n",
       "    </tr>\n",
       "  </tbody>\n",
       "</table>\n",
       "</div>"
      ],
      "text/plain": [
       "           date     open     high      low    close     volume  name\n",
       "1259 2013-02-08  67.7142  68.4014  66.8928  67.8542  158168416  AAPL\n",
       "1260 2013-02-11  68.0714  69.2771  67.6071  68.5614  129029425  AAPL\n",
       "1261 2013-02-12  68.5014  68.9114  66.8205  66.8428  151829363  AAPL\n",
       "1262 2013-02-13  66.7442  67.6628  66.1742  66.7156  118721995  AAPL\n",
       "1263 2013-02-14  66.3599  67.3771  66.2885  66.6556   88809154  AAPL"
      ]
     },
     "execution_count": 51,
     "metadata": {},
     "output_type": "execute_result"
    }
   ],
   "source": [
    "# List of moderate risk portfolio includes a mix of stable blue-chip companies along with some growth-oriented stocks.\n",
    "mod_risk_stocks = [\n",
    "    \"AAPL\",\n",
    "    \"JNJ\",\n",
    "    \"KO\",\n",
    "    \"GOOGL\",\n",
    "    \"V\",\n",
    "    \"JPM\",\n",
    "    \"CSCO\",\n",
    "    \"INTC\",\n",
    "    \"HD\",\n",
    "    \"AXP\"\n",
    "]\n",
    "\n",
    "# Filtering data for rows corresponding to moderate risk stocks\n",
    "mod_risk_port = data[data['name'].isin(mod_risk_stocks)]\n",
    "\n",
    "# Viewing the moderate risk portfolio\n",
    "mod_risk_port.head()"
   ]
  },
  {
   "cell_type": "code",
   "execution_count": 52,
   "id": "11d5c11b",
   "metadata": {},
   "outputs": [
    {
     "data": {
      "text/plain": [
       "name\n",
       "AAPL     1259\n",
       "AXP      1259\n",
       "CSCO     1259\n",
       "GOOGL    1259\n",
       "HD       1259\n",
       "INTC     1259\n",
       "JNJ      1259\n",
       "JPM      1259\n",
       "KO       1259\n",
       "V        1259\n",
       "Name: count, dtype: int64"
      ]
     },
     "execution_count": 52,
     "metadata": {},
     "output_type": "execute_result"
    }
   ],
   "source": [
    "#Checking the name colum\n",
    "mod_risk_port.value_counts('name')"
   ]
  },
  {
   "cell_type": "code",
   "execution_count": 53,
   "id": "e27f2373",
   "metadata": {},
   "outputs": [
    {
     "data": {
      "text/plain": [
       "date      False\n",
       "open      False\n",
       "high      False\n",
       "low       False\n",
       "close     False\n",
       "volume    False\n",
       "name      False\n",
       "dtype: bool"
      ]
     },
     "execution_count": 53,
     "metadata": {},
     "output_type": "execute_result"
    }
   ],
   "source": [
    "mod_risk_port.isnull().any()"
   ]
  },
  {
   "cell_type": "code",
   "execution_count": 54,
   "id": "b9fa9806",
   "metadata": {},
   "outputs": [
    {
     "data": {
      "text/html": [
       "<div>\n",
       "<style scoped>\n",
       "    .dataframe tbody tr th:only-of-type {\n",
       "        vertical-align: middle;\n",
       "    }\n",
       "\n",
       "    .dataframe tbody tr th {\n",
       "        vertical-align: top;\n",
       "    }\n",
       "\n",
       "    .dataframe thead th {\n",
       "        text-align: right;\n",
       "    }\n",
       "</style>\n",
       "<table border=\"1\" class=\"dataframe\">\n",
       "  <thead>\n",
       "    <tr style=\"text-align: right;\">\n",
       "      <th></th>\n",
       "      <th>date</th>\n",
       "      <th>open</th>\n",
       "      <th>high</th>\n",
       "      <th>low</th>\n",
       "      <th>close</th>\n",
       "      <th>volume</th>\n",
       "      <th>name</th>\n",
       "    </tr>\n",
       "  </thead>\n",
       "  <tbody>\n",
       "    <tr>\n",
       "      <th>53941</th>\n",
       "      <td>2013-02-08</td>\n",
       "      <td>84.13</td>\n",
       "      <td>85.1800</td>\n",
       "      <td>84.1100</td>\n",
       "      <td>84.65</td>\n",
       "      <td>2181859</td>\n",
       "      <td>APA</td>\n",
       "    </tr>\n",
       "    <tr>\n",
       "      <th>53942</th>\n",
       "      <td>2013-02-11</td>\n",
       "      <td>84.81</td>\n",
       "      <td>85.4700</td>\n",
       "      <td>83.7300</td>\n",
       "      <td>83.81</td>\n",
       "      <td>2207403</td>\n",
       "      <td>APA</td>\n",
       "    </tr>\n",
       "    <tr>\n",
       "      <th>53943</th>\n",
       "      <td>2013-02-12</td>\n",
       "      <td>84.06</td>\n",
       "      <td>84.4300</td>\n",
       "      <td>83.3300</td>\n",
       "      <td>84.18</td>\n",
       "      <td>2735842</td>\n",
       "      <td>APA</td>\n",
       "    </tr>\n",
       "    <tr>\n",
       "      <th>53944</th>\n",
       "      <td>2013-02-13</td>\n",
       "      <td>84.18</td>\n",
       "      <td>84.4300</td>\n",
       "      <td>83.7000</td>\n",
       "      <td>84.33</td>\n",
       "      <td>3168636</td>\n",
       "      <td>APA</td>\n",
       "    </tr>\n",
       "    <tr>\n",
       "      <th>53945</th>\n",
       "      <td>2013-02-14</td>\n",
       "      <td>83.72</td>\n",
       "      <td>84.0000</td>\n",
       "      <td>80.1100</td>\n",
       "      <td>80.33</td>\n",
       "      <td>8653948</td>\n",
       "      <td>APA</td>\n",
       "    </tr>\n",
       "    <tr>\n",
       "      <th>...</th>\n",
       "      <td>...</td>\n",
       "      <td>...</td>\n",
       "      <td>...</td>\n",
       "      <td>...</td>\n",
       "      <td>...</td>\n",
       "      <td>...</td>\n",
       "      <td>...</td>\n",
       "    </tr>\n",
       "    <tr>\n",
       "      <th>558208</th>\n",
       "      <td>2018-02-01</td>\n",
       "      <td>67.22</td>\n",
       "      <td>67.9500</td>\n",
       "      <td>66.2300</td>\n",
       "      <td>67.15</td>\n",
       "      <td>5603314</td>\n",
       "      <td>UAL</td>\n",
       "    </tr>\n",
       "    <tr>\n",
       "      <th>558209</th>\n",
       "      <td>2018-02-02</td>\n",
       "      <td>66.63</td>\n",
       "      <td>66.8900</td>\n",
       "      <td>65.4800</td>\n",
       "      <td>65.68</td>\n",
       "      <td>4189758</td>\n",
       "      <td>UAL</td>\n",
       "    </tr>\n",
       "    <tr>\n",
       "      <th>558210</th>\n",
       "      <td>2018-02-05</td>\n",
       "      <td>65.00</td>\n",
       "      <td>65.4400</td>\n",
       "      <td>63.2811</td>\n",
       "      <td>63.40</td>\n",
       "      <td>5433829</td>\n",
       "      <td>UAL</td>\n",
       "    </tr>\n",
       "    <tr>\n",
       "      <th>558211</th>\n",
       "      <td>2018-02-06</td>\n",
       "      <td>62.16</td>\n",
       "      <td>64.2200</td>\n",
       "      <td>61.9600</td>\n",
       "      <td>63.95</td>\n",
       "      <td>4670812</td>\n",
       "      <td>UAL</td>\n",
       "    </tr>\n",
       "    <tr>\n",
       "      <th>558212</th>\n",
       "      <td>2018-02-07</td>\n",
       "      <td>63.84</td>\n",
       "      <td>66.5783</td>\n",
       "      <td>63.7500</td>\n",
       "      <td>65.36</td>\n",
       "      <td>5694871</td>\n",
       "      <td>UAL</td>\n",
       "    </tr>\n",
       "  </tbody>\n",
       "</table>\n",
       "<p>11331 rows × 7 columns</p>\n",
       "</div>"
      ],
      "text/plain": [
       "             date   open     high      low  close   volume name\n",
       "53941  2013-02-08  84.13  85.1800  84.1100  84.65  2181859  APA\n",
       "53942  2013-02-11  84.81  85.4700  83.7300  83.81  2207403  APA\n",
       "53943  2013-02-12  84.06  84.4300  83.3300  84.18  2735842  APA\n",
       "53944  2013-02-13  84.18  84.4300  83.7000  84.33  3168636  APA\n",
       "53945  2013-02-14  83.72  84.0000  80.1100  80.33  8653948  APA\n",
       "...           ...    ...      ...      ...    ...      ...  ...\n",
       "558208 2018-02-01  67.22  67.9500  66.2300  67.15  5603314  UAL\n",
       "558209 2018-02-02  66.63  66.8900  65.4800  65.68  4189758  UAL\n",
       "558210 2018-02-05  65.00  65.4400  63.2811  63.40  5433829  UAL\n",
       "558211 2018-02-06  62.16  64.2200  61.9600  63.95  4670812  UAL\n",
       "558212 2018-02-07  63.84  66.5783  63.7500  65.36  5694871  UAL\n",
       "\n",
       "[11331 rows x 7 columns]"
      ]
     },
     "execution_count": 54,
     "metadata": {},
     "output_type": "execute_result"
    }
   ],
   "source": [
    "# List of hight risk  portfolio consists of more volatile stocks with higher growth potential but also higher risk.\n",
    "high_risk_stocks = [\n",
    "    \"RCL\",  # Royal Caribbean Group\n",
    "    \"CCL\",  # Carnival Corporation\n",
    "    \"UAL\",  # United Airlines Holdings, Inc.\n",
    "    \"DAL\",  # Delta Air Lines, Inc.\n",
    "    \"APA\",  # Apache Corporation\n",
    "    \"GPS\",  # Gap Inc.\n",
    "    \"KSS\",  # Kohl's Corporation\n",
    "    \"MAC\",  # Macerich Company\n",
    "    \"URBN\",  # Urban Outfitters, Inc.\n",
    "    \"LB\"    # L Brands, Inc.\n",
    "]\n",
    "\n",
    "#Filtering  data for rows corresponding to high risk stocks\n",
    "high_risk_port = data[data['name'].isin(high_risk_stocks)]\n",
    "\n",
    "#Viewing the high risk portfolio\n",
    "high_risk_port"
   ]
  },
  {
   "cell_type": "code",
   "execution_count": 55,
   "id": "884fa7a5",
   "metadata": {},
   "outputs": [
    {
     "data": {
      "text/plain": [
       "name\n",
       "APA    1259\n",
       "CCL    1259\n",
       "DAL    1259\n",
       "GPS    1259\n",
       "KSS    1259\n",
       "LB     1259\n",
       "MAC    1259\n",
       "RCL    1259\n",
       "UAL    1259\n",
       "Name: count, dtype: int64"
      ]
     },
     "execution_count": 55,
     "metadata": {},
     "output_type": "execute_result"
    }
   ],
   "source": [
    "#Checking the name colum\n",
    "high_risk_port.value_counts('name')"
   ]
  },
  {
   "cell_type": "code",
   "execution_count": 56,
   "id": "583894fe",
   "metadata": {},
   "outputs": [
    {
     "data": {
      "text/plain": [
       "date      False\n",
       "open      False\n",
       "high      False\n",
       "low       False\n",
       "close     False\n",
       "volume    False\n",
       "name      False\n",
       "dtype: bool"
      ]
     },
     "execution_count": 56,
     "metadata": {},
     "output_type": "execute_result"
    }
   ],
   "source": [
    "high_risk_port.isnull().any()"
   ]
  },
  {
   "cell_type": "markdown",
   "id": "0aad0eff",
   "metadata": {},
   "source": [
    "Three portfolio with different risk levels were created, from the stock data, were none of them contain missing values."
   ]
  },
  {
   "cell_type": "code",
   "execution_count": 57,
   "id": "24df6af8",
   "metadata": {},
   "outputs": [],
   "source": [
    "# Exporting Porfolio Data\n",
    "low_risk_port.to_csv('../data/low_risk_port.csv', index = False)\n",
    "mod_risk_port.to_csv('../data/mod_risk_port.csv', index = False)\n",
    "high_risk_port.to_csv('../data/high_risk_port.csv', index = False)"
   ]
  }
 ],
 "metadata": {
  "kernelspec": {
   "display_name": "Python 3 (ipykernel)",
   "language": "python",
   "name": "python3"
  },
  "language_info": {
   "codemirror_mode": {
    "name": "ipython",
    "version": 3
   },
   "file_extension": ".py",
   "mimetype": "text/x-python",
   "name": "python",
   "nbconvert_exporter": "python",
   "pygments_lexer": "ipython3",
   "version": "3.11.7"
  },
  "toc": {
   "base_numbering": 1,
   "nav_menu": {},
   "number_sections": true,
   "sideBar": true,
   "skip_h1_title": false,
   "title_cell": "Table of Contents",
   "title_sidebar": "Contents",
   "toc_cell": false,
   "toc_position": {},
   "toc_section_display": true,
   "toc_window_display": false
  },
  "varInspector": {
   "cols": {
    "lenName": 16,
    "lenType": 16,
    "lenVar": 40
   },
   "kernels_config": {
    "python": {
     "delete_cmd_postfix": "",
     "delete_cmd_prefix": "del ",
     "library": "var_list.py",
     "varRefreshCmd": "print(var_dic_list())"
    },
    "r": {
     "delete_cmd_postfix": ") ",
     "delete_cmd_prefix": "rm(",
     "library": "var_list.r",
     "varRefreshCmd": "cat(var_dic_list()) "
    }
   },
   "types_to_exclude": [
    "module",
    "function",
    "builtin_function_or_method",
    "instance",
    "_Feature"
   ],
   "window_display": false
  }
 },
 "nbformat": 4,
 "nbformat_minor": 5
}
